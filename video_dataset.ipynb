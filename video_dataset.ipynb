{
 "cells": [
  {
   "cell_type": "code",
   "execution_count": 38,
   "metadata": {},
   "outputs": [],
   "source": [
    "import os\n",
    "import shutil\n",
    "import pandas as pd\n",
    "from glob import glob\n",
    "def createDirectory(directory):\n",
    "    try:\n",
    "        if not os.path.exists(directory):\n",
    "            os.makedirs(directory)\n",
    "    except OSError:\n",
    "        print(\"Error: Failed to create the directory.\")"
   ]
  },
  {
   "cell_type": "code",
   "execution_count": 48,
   "metadata": {},
   "outputs": [],
   "source": [
    "label_data=pd.read_csv('../../data/label_data.csv',encoding='CP949')\n",
    "video_list=glob('../../data/1.원본데이터/**/*.mp4')\n",
    "video_path_0='../../data/video_data/No_closure/'\n",
    "video_path_1='../../data/video_data/Oropharynx/'\n",
    "video_path_2='../../data/video_data/Tonguebase/'\n",
    "video_path_3='../../data/video_data/Epiglottis/'\n",
    "for i in range(len(video_list)):\n",
    "    video_name=os.path.basename(video_list[i])\n",
    "    video_dev=video_name[:video_name.find('_')]\n",
    "    dst_label=label_data.loc[label_data[\"영상명\"] == video_dev]\n",
    "    if len(dst_label)==0:\n",
    "        dst_label=label_data.loc[label_data[\"영상명\"] == video_dev+'_']\n",
    "    if len(dst_label)!=0:\n",
    "        dst_label=dst_label.reset_index()\n",
    "        video_label=dst_label['OTE 원인'][0]\n",
    "        if video_label=='0':\n",
    "            shutil.move(video_list[i],video_path_0+video_dev+'.mp4')\n",
    "        elif video_label=='1':\n",
    "            shutil.move(video_list[i],video_path_1+video_dev+'.mp4')\n",
    "        elif video_label=='2':\n",
    "            shutil.move(video_list[i],video_path_2+video_dev+'.mp4')\n",
    "        elif video_label=='3':\n",
    "            shutil.move(video_list[i],video_path_3+video_dev+'.mp4')"
   ]
  }
 ],
 "metadata": {
  "kernelspec": {
   "display_name": "LeeYS",
   "language": "python",
   "name": "python3"
  },
  "language_info": {
   "codemirror_mode": {
    "name": "ipython",
    "version": 3
   },
   "file_extension": ".py",
   "mimetype": "text/x-python",
   "name": "python",
   "nbconvert_exporter": "python",
   "pygments_lexer": "ipython3",
   "version": "3.9.0"
  }
 },
 "nbformat": 4,
 "nbformat_minor": 2
}
