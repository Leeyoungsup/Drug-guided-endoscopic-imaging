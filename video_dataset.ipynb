{
 "cells": [
  {
   "cell_type": "code",
   "execution_count": 1,
   "metadata": {},
   "outputs": [],
   "source": [
    "import os\n",
    "import shutil\n",
    "import pandas as pd\n",
    "from glob import glob\n",
    "def createDirectory(directory):\n",
    "    try:\n",
    "        if not os.path.exists(directory):\n",
    "            os.makedirs(directory)\n",
    "    except OSError:\n",
    "        print(\"Error: Failed to create the directory.\")\n",
    "df=pd.DataFrame(columns=['wake','Serial Number','label','File Name'])\n",
    "count=0"
   ]
  },
  {
   "cell_type": "code",
   "execution_count": 92,
   "metadata": {},
   "outputs": [],
   "source": [
    "label_data=pd.read_csv('../../data/label_data.csv',encoding='CP949')\n",
    "video_list=glob('../../data/1.원본데이터/**/**/*.mp4')\n",
    "video_path='../../data/data/'\n",
    "class_1='Oropharynx/'\n",
    "class_2='Tonguebase/'\n",
    "class_3='Epiglottis/'\n",
    "for i in range(len(video_list)):\n",
    "    video_name=os.path.basename(video_list[i])\n",
    "    video_dev=video_name[:video_name.find('_')-1]\n",
    "    video_separation=video_name[video_name.find('_')-1]\n",
    "    if video_separation=='3' or video_separation=='2' or video_separation=='1':\n",
    "        dst_label=label_data.loc[label_data[\"일련번호\"] == int(video_dev)]\n",
    "        dst_label=dst_label.loc[dst_label[\"구분값\"] == int(video_separation)]\n",
    "        if len(dst_label)!=0:     \n",
    "            dst_label=dst_label.loc[(dst_label['OTE 원인'] == '1') | (dst_label['OTE 원인'] == '2') | (dst_label['OTE 원인'] == '3')]\n",
    "            dst_label=dst_label.reset_index()\n",
    "            video_label=dst_label['OTE 원인'][0]\n",
    "            video_label1=dst_label[\"구분값\"][0]\n",
    "            Serial_number=dst_label[\"일련번호\"][0]\n",
    "            if video_label=='0':\n",
    "                df.loc[count] = [video_label1,Serial_number,video_label,video_name]\n",
    "                count+=1\n",
    "                shutil.move(video_list[i],video_path+video_name)\n",
    "                \n",
    "            elif video_label=='1':\n",
    "                df.loc[count] = [video_label1,Serial_number,video_label,video_name]\n",
    "                count+=1\n",
    "                shutil.move(video_list[i],video_path+video_name)\n",
    "            elif video_label=='2':\n",
    "                df.loc[count] = [video_label1,Serial_number,video_label,video_name]\n",
    "                count+=1\n",
    "                shutil.move(video_list[i],video_path+video_name)\n",
    "            elif video_label=='3':\n",
    "                df.loc[count] = [video_label1,Serial_number,video_label,video_name]\n",
    "                count+=1\n",
    "                shutil.move(video_list[i],video_path+video_name)"
   ]
  },
  {
   "cell_type": "code",
   "execution_count": 89,
   "metadata": {},
   "outputs": [],
   "source": [
    "df.to_csv('../../data/label.csv',index=False)"
   ]
  }
 ],
 "metadata": {
  "kernelspec": {
   "display_name": "LeeYS",
   "language": "python",
   "name": "python3"
  },
  "language_info": {
   "codemirror_mode": {
    "name": "ipython",
    "version": 3
   },
   "file_extension": ".py",
   "mimetype": "text/x-python",
   "name": "python",
   "nbconvert_exporter": "python",
   "pygments_lexer": "ipython3",
   "version": "3.9.0"
  }
 },
 "nbformat": 4,
 "nbformat_minor": 2
}
