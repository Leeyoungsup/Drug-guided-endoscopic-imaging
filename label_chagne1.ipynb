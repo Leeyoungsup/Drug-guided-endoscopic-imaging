{
 "cells": [
  {
   "cell_type": "code",
   "execution_count": 26,
   "metadata": {},
   "outputs": [],
   "source": [
    "import os\n",
    "import shutil\n",
    "import pandas as pd\n",
    "from glob import glob"
   ]
  },
  {
   "cell_type": "code",
   "execution_count": 27,
   "metadata": {},
   "outputs": [],
   "source": [
    "label_data=pd.read_csv('../../data/label_data.csv',encoding='CP949')\n",
    "change_data=pd.read_csv('../../data/change.csv',encoding='CP949')"
   ]
  },
  {
   "cell_type": "code",
   "execution_count": 28,
   "metadata": {},
   "outputs": [
    {
     "name": "stderr",
     "output_type": "stream",
     "text": [
      "/tmp/ipykernel_557833/2276123388.py:5: SettingWithCopyWarning: \n",
      "A value is trying to be set on a copy of a slice from a DataFrame.\n",
      "Try using .loc[row_indexer,col_indexer] = value instead\n",
      "\n",
      "See the caveats in the documentation: https://pandas.pydata.org/pandas-docs/stable/user_guide/indexing.html#returning-a-view-versus-a-copy\n",
      "  label_data.loc[label_data['영상명']==ID]['OTE 원인']=int(change_data.loc[i]['new'])\n",
      "/tmp/ipykernel_557833/2276123388.py:6: SettingWithCopyWarning: \n",
      "A value is trying to be set on a copy of a slice from a DataFrame.\n",
      "Try using .loc[row_indexer,col_indexer] = value instead\n",
      "\n",
      "See the caveats in the documentation: https://pandas.pydata.org/pandas-docs/stable/user_guide/indexing.html#returning-a-view-versus-a-copy\n",
      "  label_data.loc[label_data['영상명']==ID]['OTE\\nobstruction']=1\n",
      "/tmp/ipykernel_557833/2276123388.py:9: SettingWithCopyWarning: \n",
      "A value is trying to be set on a copy of a slice from a DataFrame.\n",
      "Try using .loc[row_indexer,col_indexer] = value instead\n",
      "\n",
      "See the caveats in the documentation: https://pandas.pydata.org/pandas-docs/stable/user_guide/indexing.html#returning-a-view-versus-a-copy\n",
      "  label_data.loc[label_data['영상명']==ID]['OTE\\nobstruction']=0\n"
     ]
    }
   ],
   "source": [
    "count=0\n",
    "for i in range(len(change_data)):\n",
    "    ID=int(change_data.loc[i]['ID'])\n",
    "    if change_data.loc[i]['Obstruction_new']==1.0:\n",
    "        label_data.loc[label_data['영상명']==ID]['OTE 원인']=int(change_data.loc[i]['new'])\n",
    "        label_data.loc[label_data['영상명']==ID]['OTE\\nobstruction']=1\n",
    "        count+=1\n",
    "    elif change_data.loc[i]['Obstruction_new']==0:\n",
    "        label_data.loc[label_data['영상명']==ID]['OTE\\nobstruction']=0\n",
    "        count+=1"
   ]
  },
  {
   "cell_type": "code",
   "execution_count": 29,
   "metadata": {},
   "outputs": [],
   "source": [
    "pd('../../data/label.csv',encoding='CP949')"
   ]
  },
  {
   "cell_type": "code",
   "execution_count": 15,
   "metadata": {},
   "outputs": [
    {
     "data": {
      "text/plain": [
       "ID                 10141551.0\n",
       "Obstruction_new           1.0\n",
       "new                       3.0\n",
       "Name: 0, dtype: float64"
      ]
     },
     "execution_count": 15,
     "metadata": {},
     "output_type": "execute_result"
    }
   ],
   "source": [
    "change_data.loc[i]"
   ]
  }
 ],
 "metadata": {
  "kernelspec": {
   "display_name": "LeeYS",
   "language": "python",
   "name": "python3"
  },
  "language_info": {
   "codemirror_mode": {
    "name": "ipython",
    "version": 3
   },
   "file_extension": ".py",
   "mimetype": "text/x-python",
   "name": "python",
   "nbconvert_exporter": "python",
   "pygments_lexer": "ipython3",
   "version": "3.9.0"
  }
 },
 "nbformat": 4,
 "nbformat_minor": 2
}
