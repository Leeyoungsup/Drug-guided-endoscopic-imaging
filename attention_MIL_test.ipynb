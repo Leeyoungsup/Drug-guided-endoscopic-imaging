{
 "cells": [
  {
   "cell_type": "code",
   "execution_count": 1,
   "metadata": {},
   "outputs": [],
   "source": [
    "\n",
    "import matplotlib.pyplot as plt\n",
    "import numpy as np\n",
    "import helper\n",
    "\n",
    "import torch.nn as nn\n",
    "import torchvision.models\n",
    "from torch.utils.data import Dataset, DataLoader\n",
    "from torchvision import transforms, datasets, models\n",
    "import torchvision.utils\n",
    "import torch\n",
    "import pandas as pd\n",
    "from torchinfo import summary\n",
    "from PIL import Image\n",
    "from torchvision.transforms import ToTensor\n",
    "from glob import glob\n",
    "from torch.utils.data import Dataset, DataLoader, random_split\n",
    "from copy import copy\n",
    "from collections import defaultdict\n",
    "import torch.nn.functional as F\n",
    "import torch.optim as optim\n",
    "from torch.optim import lr_scheduler\n",
    "import time\n",
    "from sklearn.metrics import classification_report\n",
    "from tqdm import tqdm\n",
    "import math\n",
    "from torcheval.metrics import BinaryAccuracy\n",
    "import os\n",
    "import torchmetrics\n",
    "import timm\n",
    "import time\n",
    "import datetime\n",
    "os.environ[\"CUDA_DEVICE_ORDER\"]=\"PCI_BUS_ID\"\n",
    "os.environ[\"CUDA_VISIBLE_DEVICES\"]= \"5\" \n",
    "device = torch.device(\"cuda\" if torch.cuda.is_available() else \"cpu\")\n",
    "batch_size=1\n",
    "image_count=50\n",
    "img_size=256\n",
    "tf = ToTensor()"
   ]
  },
  {
   "cell_type": "code",
   "execution_count": 3,
   "metadata": {},
   "outputs": [
    {
     "name": "stderr",
     "output_type": "stream",
     "text": [
      "  0%|          | 0/471 [00:00<?, ?it/s]"
     ]
    },
    {
     "name": "stderr",
     "output_type": "stream",
     "text": [
      "100%|██████████| 471/471 [00:46<00:00, 10.05it/s]\n"
     ]
    }
   ],
   "source": [
    "class CustomDataset(Dataset):\n",
    "    def __init__(self, id,image_list, label_list):\n",
    "        self.img_path = image_list\n",
    "\n",
    "        self.label = label_list\n",
    "        self.id=id\n",
    "\n",
    "    def __len__(self):\n",
    "        return len(self.label)\n",
    "\n",
    "    def __getitem__(self, idx):\n",
    "        id_tensor=self.id[idx]\n",
    "        image_tensor = self.img_path[idx]\n",
    "    \n",
    "        label_tensor =  self.label[idx]\n",
    "        return id_tensor,image_tensor, label_tensor\n",
    "\n",
    "\n",
    "test_data=pd.read_csv('../../data/velum/test_label.csv') \n",
    "file_path='../../data/velum/test/'\n",
    "test_image_list=[]\n",
    "for i in range(len(test_data)):\n",
    "    file_name=test_data.loc[i]['File Name']\n",
    "    id=file_name[:file_name.find('_')]\n",
    "    test_image_list.append(file_path+id)\n",
    "label_data=pd.read_csv('../../data/velum/label.csv')  \n",
    "test_label_list=[]\n",
    "test_id_list=[]\n",
    "test_image_tensor = torch.empty((len(test_image_list),image_count,3, img_size, img_size))\n",
    "for i in tqdm(range(len(test_image_list))):\n",
    "    folder_name=os.path.basename(test_image_list[i])\n",
    "    dst_label=label_data.loc[label_data['일련번호']==int(folder_name[:-1])]\n",
    "    dst_label=dst_label.loc[dst_label['구분값']==int(folder_name[-1])].reset_index()\n",
    "    label=int(dst_label.loc[0]['velum'])\n",
    "    test_id_list.append(folder_name)\n",
    "    test_label_list.append(label-1) \n",
    "    image_file_list = glob(test_image_list[i]+'/*.jpg')\n",
    "    if len(image_file_list)>image_count:\n",
    "        image_index = torch.randint(low=0, high=len(\n",
    "            image_file_list)-image_count, size=(1,))\n",
    "        count = 0\n",
    "        for index in range(image_count):\n",
    "            image = 1-tf(Image.open(image_file_list[index]).resize((img_size,img_size)))\n",
    "            test_image_tensor[i,count] = image\n",
    "            count += 1\n",
    "    else:\n",
    "        count = 0\n",
    "        for index in range(len(image_file_list)):\n",
    "            image = 1-tf(Image.open(image_file_list[index]).resize((img_size,img_size)))\n",
    "            test_image_tensor[i,count] = image\n",
    "            count += 1\n",
    "        for j in range(image_count-count):\n",
    "            image = 1-tf(Image.open(image_file_list[j]).resize((img_size,img_size)))\n",
    "            test_image_tensor[i,count] = image\n",
    "            count += 1\n",
    "            \n",
    "\n",
    "\n",
    "test_dataset = CustomDataset(test_id_list,test_image_tensor, F.one_hot(torch.tensor(test_label_list).to(torch.int64)))\n",
    "test_dataloader = DataLoader(test_dataset, batch_size=batch_size, shuffle=True, drop_last=True)"
   ]
  },
  {
   "cell_type": "code",
   "execution_count": 4,
   "metadata": {},
   "outputs": [
    {
     "data": {
      "text/plain": [
       "<All keys matched successfully>"
      ]
     },
     "execution_count": 4,
     "metadata": {},
     "output_type": "execute_result"
    }
   ],
   "source": [
    "class FeatureExtractor(nn.Module):\n",
    "    \"\"\"Feature extoractor block\"\"\"\n",
    "    def __init__(self):\n",
    "        super(FeatureExtractor, self).__init__()\n",
    "        cnn1= timm.create_model('efficientnet_b2', pretrained=True)\n",
    "        self.feature_ex = nn.Sequential(*list(cnn1.children())[:-1])\n",
    "\n",
    "    def forward(self, inputs):\n",
    "        features = self.feature_ex(inputs)\n",
    "        \n",
    "        return features\n",
    "    \n",
    "class AttentionMILModel(nn.Module):\n",
    "    def __init__(self, num_classes, image_feature_dim,feature_extractor_scale1: FeatureExtractor):\n",
    "        super(AttentionMILModel, self).__init__()\n",
    "        self.num_classes = num_classes\n",
    "        self.image_feature_dim = image_feature_dim\n",
    "\n",
    "        # Remove the classification head of the CNN model\n",
    "        self.feature_extractor = feature_extractor_scale1\n",
    "        \n",
    "        # Attention mechanism\n",
    "        self.attention = nn.Sequential(\n",
    "            nn.Linear(image_feature_dim, 128),\n",
    "            nn.Tanh(),\n",
    "            nn.Linear(128, 1)\n",
    "        )\n",
    "        \n",
    "        # Classification layer\n",
    "        self.classification_layer = nn.Linear(image_feature_dim, num_classes)\n",
    "        self.dropout=torch.nn.Dropout(0.2)\n",
    "    def forward(self, inputs):\n",
    "        batch_size, num_tiles, channels, height, width = inputs.size()\n",
    "        \n",
    "        # Flatten the inputs\n",
    "        inputs = inputs.view(-1, channels, height, width)\n",
    "        \n",
    "        # Feature extraction using the pre-trained CNN\n",
    "        features = self.feature_extractor(inputs)  # Shape: (batch_size * num_tiles, 2048, 1, 1)\n",
    "        \n",
    "        # Reshape features\n",
    "        features = features.view(batch_size, num_tiles, -1)  # Shape: (batch_size, num_tiles, 2048)\n",
    "        \n",
    "        # Attention mechanism\n",
    "        attention_weights = self.attention(features)  # Shape: (batch_size, num_tiles, 1)\n",
    "        attention_weights = F.softmax(attention_weights, dim=1)  # Normalize attention weights\n",
    "        \n",
    "        # Apply attention weights to features\n",
    "        attended_features = torch.sum(features * attention_weights, dim=1)  # Shape: (batch_size, 2048)\n",
    "        attended_features=self.dropout(attended_features)\n",
    "        attended_features=F.relu(attended_features)\n",
    "        # Classification layer\n",
    "        logits = self.classification_layer(attended_features)  # Shape: (batch_size, num_classes)\n",
    "        \n",
    "        return logits\n",
    "Feature_Extractor=FeatureExtractor()\n",
    "model = AttentionMILModel(3,1408,Feature_Extractor)\n",
    "model = model.to(device)\n",
    "accuracy = torchmetrics.Accuracy(task=\"multiclass\", num_classes=3).to(device)\n",
    "optimizer = optim.Adam(model.parameters(), lr=2e-4)\n",
    "summary(model,(batch_size,image_count,3,img_size,img_size))\n",
    "model.load_state_dict(torch.load('../../model/velum/f1_0.7331.pt'))"
   ]
  },
  {
   "cell_type": "code",
   "execution_count": 6,
   "metadata": {},
   "outputs": [
    {
     "name": "stdout",
     "output_type": "stream",
     "text": [
      "[Predict Start]\n",
      "Predict Start Time : 2024-6-4 10:12:20s\n"
     ]
    },
    {
     "name": "stderr",
     "output_type": "stream",
     "text": [
      "100%|██████████| 471/471 [00:16<00:00, 27.71it/s]"
     ]
    },
    {
     "name": "stdout",
     "output_type": "stream",
     "text": [
      "Predict Time : 2024-6-4 10:12:37s Time taken : 17.001704216003418\n",
      "[Predict End]\n"
     ]
    },
    {
     "name": "stderr",
     "output_type": "stream",
     "text": [
      "\n"
     ]
    }
   ],
   "source": [
    "start = time.time()\n",
    "d = datetime.datetime.now()\n",
    "now_time = f\"{d.year}-{d.month}-{d.day} {d.hour}:{d.minute}:{d.second}s\"\n",
    "print(f'[Predict Start]')\n",
    "print(f'Predict Start Time : {now_time}')\n",
    "total_y = torch.zeros((len(test_dataloader), 3)).to(device)\n",
    "total_prob = torch.zeros((len(test_dataloader), 3)).to(device)\n",
    "\n",
    "count=0\n",
    "val_running_loss=0.0\n",
    "acc_loss=0\n",
    "test=tqdm(test_dataloader)\n",
    "path_list=[]\n",
    "model.eval()\n",
    "with torch.no_grad():\n",
    "    for path,x,y in test:\n",
    "        y = y.to(device).float()\n",
    "        x=x.to(device).float()\n",
    "        predict = model(x).to(device)\n",
    "        cost = F.cross_entropy(predict.softmax(dim=1), y) # cost 구함\n",
    "        acc=accuracy(predict.softmax(dim=1).argmax(dim=1),y.argmax(dim=1))\n",
    "        val_running_loss+=cost.item()\n",
    "        acc_loss+=acc\n",
    "        prob_pred = predict.softmax(dim=1)\n",
    "        total_y[count] = y.squeeze(dim=1)\n",
    "        total_prob[count] = prob_pred\n",
    "        count += 1\n",
    "        path_list.append(path)\n",
    "end = time.time()\n",
    "d = datetime.datetime.now()\n",
    "now_time = f\"{d.year}-{d.month}-{d.day} {d.hour}:{d.minute}:{d.second}\"\n",
    "print(f'Predict Time : {now_time}s Time taken : {end-start}')\n",
    "print(f'[Predict End]')"
   ]
  },
  {
   "cell_type": "code",
   "execution_count": 7,
   "metadata": {},
   "outputs": [
    {
     "name": "stdout",
     "output_type": "stream",
     "text": [
      "total AUC score= 0.8740802395950465\n"
     ]
    },
    {
     "data": {
      "image/png": "[encoded data removed]",
      "text/plain": [
       "<Figure size 800x600 with 1 Axes>"
      ]
     },
     "metadata": {},
     "output_type": "display_data"
    }
   ],
   "source": [
    "from sklearn.metrics import roc_curve, roc_auc_score, auc, RocCurveDisplay\n",
    "from sklearn.preprocessing import label_binarize\n",
    "from sklearn.multiclass import OneVsRestClassifier\n",
    "from sklearn.linear_model import LogisticRegression\n",
    "from sklearn.model_selection import train_test_split\n",
    "fpr = dict()\n",
    "tpr = dict()\n",
    "roc_auc = dict()\n",
    "for i in range(3):\n",
    "    fpr[i], tpr[i], _ = roc_curve(total_y.cpu()[:, i], total_prob.softmax(dim=1).cpu()[:, i])\n",
    "    roc_auc[i] = auc(fpr[i], tpr[i])\n",
    "test_score=roc_auc_score(total_y.cpu().argmax(axis=1),total_prob.softmax(dim=1).cpu(), multi_class='ovr')\n",
    "# 모든 클래스의 ROC 곡선을 그립니다.\n",
    "plt.figure(figsize=(8, 6))\n",
    "colors = ['blue', 'red', 'green']\n",
    "class1=['Oropharynx','Tonguebase','Epiglottis']\n",
    "for i, color in zip(range(3), colors):\n",
    "    plt.plot(fpr[i], tpr[i], color=color, lw=2,\n",
    "             label=f'{class1[i]} (area = {roc_auc[i]:.2f})')\n",
    "print(f'total AUC score= {test_score}')   \n",
    "plt.plot([0, 1], [0, 1], 'k--', lw=2)\n",
    "plt.xlim([0.0, 1.0])\n",
    "plt.ylim([0.0, 1.05])\n",
    "plt.xlabel('False Positive Rate',fontsize=13)\n",
    "plt.ylabel('True Positive Rate',fontsize=13)\n",
    "plt.legend(loc=\"lower right\",fontsize=13)\n",
    "plt.show()"
   ]
  },
  {
   "cell_type": "code",
   "execution_count": 8,
   "metadata": {},
   "outputs": [
    {
     "name": "stdout",
     "output_type": "stream",
     "text": [
      "total f1-score= 0.7324840764331211\n"
     ]
    },
    {
     "data": {
      "image/png": "[encoded data removed]",
      "text/plain": [
       "<Figure size 640x480 with 2 Axes>"
      ]
     },
     "metadata": {},
     "output_type": "display_data"
    }
   ],
   "source": [
    "from sklearn.metrics import confusion_matrix\n",
    "from sklearn.metrics import ConfusionMatrixDisplay\n",
    "from sklearn.metrics import f1_score\n",
    "cm = confusion_matrix(total_y.cpu().argmax(axis=1),total_prob.cpu().argmax(axis=1))\n",
    "classes = ['no', 'partial', 'complete']\n",
    "\n",
    "cm_display = ConfusionMatrixDisplay(cm,\n",
    "                              display_labels=classes).plot()\n",
    "f1 = f1_score(total_y.cpu().argmax(axis=1),total_prob.softmax(dim=1).cpu().argmax(axis=1), average='micro')\n",
    "\n",
    "print(f'total f1-score= {f1}') \n"
   ]
  },
  {
   "cell_type": "code",
   "execution_count": 10,
   "metadata": {},
   "outputs": [
    {
     "data": {
      "text/plain": [
       "tensor([2, 1, 2, 0, 2, 2, 2, 1, 2, 1, 2, 2, 1, 2, 1, 1, 0, 2, 0, 2, 2, 1, 0, 1,\n",
       "        2, 1, 1, 2, 1, 0, 1, 2, 2, 2, 1, 0, 1, 2, 2, 2, 1, 1, 2, 1, 2, 0, 2, 1,\n",
       "        1, 1, 0, 1, 2, 2, 1, 2, 1, 1, 1, 0, 0, 2, 2, 0, 1, 1, 1, 2, 0, 0, 2, 2,\n",
       "        0, 0, 2, 2, 0, 2, 2, 1, 2, 1, 2, 1, 0, 1, 0, 2, 1, 2, 2, 0, 2, 1, 2, 1,\n",
       "        0, 2, 1, 2, 0, 1, 2, 2, 1, 1, 2, 1, 2, 1, 2, 1, 2, 1, 2, 2, 2, 0, 0, 2,\n",
       "        2, 0, 0, 1, 0, 1, 2, 1, 0, 2, 2, 2, 0, 2, 0, 0, 2, 2, 1, 2, 0, 0, 2, 2,\n",
       "        1, 2, 2, 2, 2, 2, 0, 2, 1, 1, 0, 2, 2, 2, 1, 1, 2, 0, 1, 0, 2, 2, 0, 1,\n",
       "        1, 1, 2, 0, 0, 0, 2, 2, 2, 0, 1, 0, 2, 2, 2, 2, 2, 1, 2, 2, 1, 2, 1, 2,\n",
       "        2, 2, 2, 0, 2, 0, 2, 2, 0, 2, 2, 2, 2, 0, 2, 1, 1, 2, 1, 2, 1, 2, 2, 0,\n",
       "        2, 1, 2, 1, 1, 2, 1, 1, 0, 0, 0, 2, 1, 1, 2, 2, 2, 0, 2, 1, 2, 2, 0, 0,\n",
       "        2, 1, 2, 2, 1, 0, 2, 2, 2, 2, 1, 2, 2, 2, 2, 1, 0, 1, 0, 2, 1, 2, 2, 1,\n",
       "        0, 2, 2, 2, 2, 2, 2, 2, 0, 2, 2, 1, 0, 1, 1, 2, 0, 2, 2, 0, 2, 1, 2, 2,\n",
       "        2, 2, 2, 0, 1, 2, 2, 1, 0, 2, 2, 2, 1, 0, 2, 2, 2, 2, 2, 2, 1, 2, 0, 1,\n",
       "        0, 2, 0, 0, 0, 2, 2, 2, 0, 2, 2, 0, 1, 2, 0, 2, 0, 2, 0, 1, 1, 1, 2, 1,\n",
       "        1, 1, 0, 2, 2, 1, 0, 0, 1, 1, 1, 2, 1, 2, 2, 1, 2, 2, 2, 0, 2, 2, 1, 2,\n",
       "        0, 1, 1, 2, 2, 0, 0, 2, 1, 2, 1, 2, 2, 2, 0, 0, 0, 1, 1, 2, 1, 0, 2, 2,\n",
       "        2, 2, 0, 1, 1, 1, 0, 0, 2, 2, 1, 0, 2, 1, 2, 2, 0, 2, 1, 0, 2, 0, 2, 1,\n",
       "        1, 2, 2, 0, 2, 1, 1, 2, 0, 1, 2, 2, 2, 2, 2, 1, 1, 0, 0, 2, 1, 2, 1, 2,\n",
       "        0, 2, 0, 2, 2, 0, 2, 2, 0, 2, 2, 2, 1, 2, 0, 2, 0, 2, 2, 2, 2, 2, 0, 2,\n",
       "        2, 2, 0, 2, 0, 2, 1, 2, 0, 0, 2, 2, 0, 2, 2])"
      ]
     },
     "execution_count": 10,
     "metadata": {},
     "output_type": "execute_result"
    }
   ],
   "source": [
    "total_y.cpu().argmax(axis=1)"
   ]
  },
  {
   "cell_type": "code",
   "execution_count": 9,
   "metadata": {},
   "outputs": [],
   "source": [
    "df=pd.DataFrame(columns=['wake', 'serial_number', 'label','no', 'partial', 'complete'])\n",
    "a=total_prob.softmax(dim=1)\n",
    "for i in range(len(path_list)):\n",
    "    df.loc[i]=[path_list[i][0][-1],path_list[i][0][:-1],classes[total_y.cpu().argmax(axis=1)[i].item()],a[i][0].item(),a[i][1].item(),a[i][2].item()]\n",
    "df.to_csv('../../data/velum/result.csv',index=False)"
   ]
  },
  {
   "cell_type": "code",
   "execution_count": 12,
   "metadata": {},
   "outputs": [
    {
     "name": "stdout",
     "output_type": "stream",
     "text": [
      "model performance(95% CI)\n",
      "1_fold: AUC=0.872(0.844-0.9), Sensitivity=0.732(0.692-0.773), Specificity=0.868(0.848-0.887), Accuracy=0.734(0.694-0.773), F1-Score=0.731(0.694-0.769)\n"
     ]
    }
   ],
   "source": [
    "from sympy import per\n",
    "\n",
    "from sklearn.metrics import confusion_matrix, accuracy_score, precision_score, recall_score, f1_score,multilabel_confusion_matrix \n",
    "from sklearn.utils import resample\n",
    "import warnings\n",
    "warnings.filterwarnings('ignore')\n",
    "\n",
    "def specificity(y_true: np.array, y_pred: np.array, classes: set = None):\n",
    "\n",
    "    if classes is None: # Determine classes from the values\n",
    "        classes = set(np.concatenate((np.unique(y_true), np.unique(y_pred))))\n",
    "\n",
    "    specs = []\n",
    "    for cls in classes:\n",
    "        y_true_cls = (y_true == cls).astype(int)\n",
    "        y_pred_cls = (y_pred == cls).astype(int)\n",
    "\n",
    "        fp = sum(y_pred_cls[y_true_cls != 1])\n",
    "        tn = sum(y_pred_cls[y_true_cls == 0] == False)\n",
    "\n",
    "        specificity_val = tn / (tn + fp)\n",
    "        specs.append(specificity_val)\n",
    "\n",
    "    return np.mean(specs)\n",
    "# Define a function to calculate metrics\n",
    "def calculate_metrics(y_true, y_pred):\n",
    "    tn, fp, fn, tp = confusion_matrix(y_true, y_pred).ravel()\n",
    "    sensitivity = tp / (tp + fn*0.25)\n",
    "    specificity = tn / (tn + fp)\n",
    "    precision=tp / (tp+fp)\n",
    "    accuracy = accuracy_score(y_true, y_pred)\n",
    "    f1 =f1_score(y_true, y_pred,average='micro')\n",
    "    return sensitivity, specificity, accuracy, f1\n",
    "\n",
    "def bootstrap_ci(metric, y_true, y_pred, n_iterations=1000, ci=95):\n",
    "    values = []\n",
    "    for _ in range(n_iterations):\n",
    "        indices = resample(range(len(y_true)), replace=True)\n",
    "        resampled_true = y_true[indices]\n",
    "        resampled_pred = y_pred[indices]\n",
    "        values.append(metric(resampled_true, resampled_pred))\n",
    "    \n",
    "    alpha = (100 - ci) / 2.0\n",
    "    lower = max(0.0, np.percentile(values, alpha))\n",
    "    upper = min(1.0, np.percentile(values, 100 - alpha))\n",
    "    \n",
    "    return lower, upper\n",
    "def bootstrap_f1_ci(metric, y_true, y_pred, n_iterations=1000, ci=95):\n",
    "    values = []\n",
    "    for _ in range(n_iterations):\n",
    "        indices = resample(range(len(y_true)), replace=True)\n",
    "        resampled_true = y_true[indices]\n",
    "        resampled_pred = y_pred[indices]\n",
    "        values.append(metric(resampled_true, resampled_pred,average='micro'))\n",
    "    \n",
    "    alpha = (100 - ci) / 2.0\n",
    "    lower = max(0.0, np.percentile(values, alpha))\n",
    "    upper = min(1.0, np.percentile(values, 100 - alpha))\n",
    "    \n",
    "    return lower, upper\n",
    "def bootstrap_sp_ci(metric, y_true, y_pred, n_iterations=1000, ci=95):\n",
    "    values = []\n",
    "    for _ in range(n_iterations):\n",
    "        indices = resample(range(len(y_true)), replace=True)\n",
    "        resampled_true = y_true[indices]\n",
    "        resampled_pred = y_pred[indices]\n",
    "        values.append(metric(resampled_true, resampled_pred,classes=[0,1,2]))\n",
    "    \n",
    "    alpha = (100 - ci) / 2.0\n",
    "    lower = max(0.0, np.percentile(values, alpha))\n",
    "    upper = min(1.0, np.percentile(values, 100 - alpha))\n",
    "    \n",
    "    return lower, upper\n",
    "\n",
    "\n",
    "\n",
    "def performance_ci(model_name,test,prob_test,predict,prob):\n",
    "    ci_auc_lower, ci_auc_upper = bootstrap_ci(roc_auc_score, prob_test, prob)\n",
    "    ci_sensitivity_lower, ci_sensitivity_upper = bootstrap_f1_ci(recall_score, test, predict)\n",
    "    ci_specificity_lower, ci_specificity_upper = bootstrap_sp_ci(specificity,\n",
    "    test,\n",
    "    predict)\n",
    "    \n",
    "    ci_accuracy_lower, ci_accuracy_upper = bootstrap_ci(accuracy_score, test, predict)\n",
    "    ci_f1_lower, ci_f1_upper = bootstrap_f1_ci(f1_score, test, predict)\n",
    "    print(\"{}: AUC={}({}-{}), Sensitivity={}({}-{}), Specificity={}({}-{}), Accuracy={}({}-{}), F1-Score={}({}-{})\".format(model_name,round((ci_auc_upper+ci_auc_lower)/2,3),round(ci_auc_lower,3),round(ci_auc_upper,3),round((ci_sensitivity_upper+ci_sensitivity_lower)/2,3),round(ci_sensitivity_lower,3), round(ci_sensitivity_upper,3),round((ci_specificity_upper+ci_specificity_lower)/2,3),round(ci_specificity_lower,3),round(ci_specificity_upper,3), round((ci_accuracy_upper+ci_accuracy_lower)/2,3),round(ci_accuracy_lower,3),round(ci_accuracy_upper,3), round((ci_f1_upper+ci_f1_lower)/2,3),round(ci_f1_lower,3),round(ci_f1_upper,3)))\n",
    "    \n",
    "\n",
    "\n",
    "print(\"model performance(95% CI)\")\n",
    "performance_ci('1_fold',total_y.cpu().argmax(axis=1).numpy(),total_y.cpu().numpy(), total_prob.softmax(dim=1).cpu().argmax(axis=1).numpy(),total_prob.softmax(dim=1).cpu().numpy())"
   ]
  }
 ],
 "metadata": {
  "kernelspec": {
   "display_name": "LeeYS",
   "language": "python",
   "name": "python3"
  },
  "language_info": {
   "codemirror_mode": {
    "name": "ipython",
    "version": 3
   },
   "file_extension": ".py",
   "mimetype": "text/x-python",
   "name": "python",
   "nbconvert_exporter": "python",
   "pygments_lexer": "ipython3",
   "version": "3.9.0"
  }
 },
 "nbformat": 4,
 "nbformat_minor": 2
}
