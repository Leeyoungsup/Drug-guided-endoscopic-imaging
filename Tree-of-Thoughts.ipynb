{
 "cells": [
  {
   "cell_type": "markdown",
   "metadata": {},
   "source": [
    "#제안\n",
    "\n",
    "\"4x4 스도쿠 퍼즐의 빈 칸을 채워 넣으시오.\"\n",
    "\n",
    "#지침\n",
    "\n",
    "단계 1: 언어 모델은 첫 번째 빈 칸에 들어갈 숫자를 제안합니다.\n",
    "\n",
    "단계 2: 다음 빈 칸에 들어갈 숫자를 고려합니다.\n",
    "\n",
    "백트래킹: 만약 어떤 단계에서 퍼즐이 풀리지 않는다고 판단되면, 언어 모델은 이전 단계로 되돌아가 다른 숫자를 시도합니다.\n",
    "\n",
    "최종 출력: 모든 빈 칸을 올바르게 채워 퍼즐을 완성합니다.\n",
    "\n",
    "\n",
    "#결과\n",
    "\n",
    "python 코드"
   ]
  },
  {
   "cell_type": "code",
   "execution_count": 1,
   "metadata": {},
   "outputs": [
    {
     "name": "stdout",
     "output_type": "stream",
     "text": [
      "퍼즐 해결 결과:\n",
      "1 2 3 4 \n",
      "3 4 1 2 \n",
      "2 1 4 3 \n",
      "4 3 2 1 \n"
     ]
    }
   ],
   "source": [
    "def is_valid(board, row, col, num):\n",
    "    # 행에 중복되는 숫자가 있는지 확인\n",
    "    for x in range(4):\n",
    "        if board[row][x] == num:\n",
    "            return False\n",
    "    # 열에 중복되는 숫자가 있는지 확인\n",
    "    for x in range(4):\n",
    "        if board[x][col] == num:\n",
    "            return False\n",
    "    # 2x2 작은 사각형에 중복되는 숫자가 있는지 확인\n",
    "    start_row = row - row % 2\n",
    "    start_col = col - col % 2\n",
    "    for i in range(2):\n",
    "        for j in range(2):\n",
    "            if board[i + start_row][j + start_col] == num:\n",
    "                return False\n",
    "    return True\n",
    "\n",
    "def solve_sudoku(board):\n",
    "    empty_spot = find_empty_spot(board)\n",
    "    if not empty_spot:\n",
    "        return True  # 더 이상 빈 칸이 없으면 퍼즐이 해결됨\n",
    "    row, col = empty_spot\n",
    "    for num in range(1, 5):\n",
    "        if is_valid(board, row, col, num):\n",
    "            board[row][col] = num\n",
    "            if solve_sudoku(board):\n",
    "                return True\n",
    "            board[row][col] = 0  # 다음 숫자 시도를 위해 원래 상태로 되돌림\n",
    "    return False\n",
    "\n",
    "def find_empty_spot(board):\n",
    "    for i in range(4):\n",
    "        for j in range(4):\n",
    "            if board[i][j] == 0:\n",
    "                return (i, j)  # 빈 칸의 위치를 반환\n",
    "    return None\n",
    "\n",
    "def print_board(board):\n",
    "    for i in range(4):\n",
    "        for j in range(4):\n",
    "            print(board[i][j], end=\" \")\n",
    "        print()\n",
    "\n",
    "# 테스트용 입력 스도쿠 퍼즐\n",
    "board = [\n",
    "    [0, 0, 0, 0],\n",
    "    [0, 0, 0, 0],\n",
    "    [0, 0, 0, 0],\n",
    "    [0, 0, 0, 0]\n",
    "]\n",
    "\n",
    "if solve_sudoku(board):\n",
    "    print(\"퍼즐 해결 결과:\")\n",
    "    print_board(board)\n",
    "else:\n",
    "    print(\"해결할 수 없는 퍼즐입니다.\")"
   ]
  }
 ],
 "metadata": {
  "kernelspec": {
   "display_name": "LeeYS",
   "language": "python",
   "name": "python3"
  },
  "language_info": {
   "codemirror_mode": {
    "name": "ipython",
    "version": 3
   },
   "file_extension": ".py",
   "mimetype": "text/x-python",
   "name": "python",
   "nbconvert_exporter": "python",
   "pygments_lexer": "ipython3",
   "version": "3.9.0"
  }
 },
 "nbformat": 4,
 "nbformat_minor": 2
}
