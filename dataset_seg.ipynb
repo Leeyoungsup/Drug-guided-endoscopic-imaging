{
 "cells": [
  {
   "cell_type": "code",
   "execution_count": 10,
   "metadata": {},
   "outputs": [],
   "source": [
    "import os\n",
    "import shutil\n",
    "import pandas as pd\n",
    "from glob import glob\n",
    "import random\n",
    "from copy import copy\n",
    "from tqdm import tqdm\n",
    "def createDirectory(directory):\n",
    "    try:\n",
    "        if not os.path.exists(directory):\n",
    "            os.makedirs(directory)\n",
    "    except OSError:\n",
    "        print(\"Error: Failed to create the directory.\")"
   ]
  },
  {
   "cell_type": "code",
   "execution_count": 11,
   "metadata": {},
   "outputs": [
    {
     "name": "stderr",
     "output_type": "stream",
     "text": [
      "  0%|          | 0/4 [00:00<?, ?it/s]"
     ]
    },
    {
     "name": "stderr",
     "output_type": "stream",
     "text": [
      "100%|██████████| 4/4 [00:03<00:00,  1.32it/s]\n"
     ]
    }
   ],
   "source": [
    "train_folder_list=glob('../../data/image_data_pd/3/**')\n",
    "test_folder_list=[f.replace('/image_data_pd/', '/image_data_pd_test/') for f in train_folder_list]\n",
    "for i in range(len(test_folder_list)):\n",
    "    createDirectory(test_folder_list[i])\n",
    "for i in tqdm(range(len(train_folder_list))):\n",
    "    image_list=glob(train_folder_list[i]+'/**')\n",
    "    test_image_list=random.sample(image_list,len(image_list)//5)\n",
    "    train_image_list=copy(test_image_list)\n",
    "    test_image_list=[f.replace('/image_data_pd/', '/image_data_pd_test/') for f in train_image_list]\n",
    "    for j in range(len(test_image_list)):\n",
    "        shutil.move(train_image_list[j],test_image_list[j])"
   ]
  },
  {
   "cell_type": "code",
   "execution_count": 4,
   "metadata": {},
   "outputs": [
    {
     "data": {
      "text/plain": [
       "['../../data/image_data_test/2/Tonguebase/6290149',\n",
       " '../../data/image_data_test/2/Tonguebase/4332148',\n",
       " '../../data/image_data_test/2/Tonguebase/4227257',\n",
       " '../../data/image_data_test/2/Tonguebase/1974261',\n",
       " '../../data/image_data_test/2/Tonguebase/4383155',\n",
       " '../../data/image_data_test/2/Tonguebase/1833235',\n",
       " '../../data/image_data_test/2/Tonguebase/1387261',\n",
       " '../../data/image_data_test/2/Tonguebase/4276156',\n",
       " '../../data/image_data_test/2/Tonguebase/6214250',\n",
       " '../../data/image_data_test/2/Tonguebase/11001160',\n",
       " '../../data/image_data_test/2/Tonguebase/4361150',\n",
       " '../../data/image_data_test/2/Tonguebase/1518136',\n",
       " '../../data/image_data_test/2/Tonguebase/1469154',\n",
       " '../../data/image_data_test/2/Tonguebase/1637150',\n",
       " '../../data/image_data_test/2/Tonguebase/1207157',\n",
       " '../../data/image_data_test/2/Tonguebase/11024152',\n",
       " '../../data/image_data_test/2/Tonguebase/1371119',\n",
       " '../../data/image_data_test/2/Tonguebase/1550256',\n",
       " '../../data/image_data_test/2/Tonguebase/1985150',\n",
       " '../../data/image_data_test/2/Tonguebase/1583135',\n",
       " '../../data/image_data_test/2/Tonguebase/1928157',\n",
       " '../../data/image_data_test/2/Tonguebase/1185236',\n",
       " '../../data/image_data_test/2/Tonguebase/4373136',\n",
       " '../../data/image_data_test/2/Tonguebase/4341122',\n",
       " '../../data/image_data_test/2/Tonguebase/4253138',\n",
       " '../../data/image_data_test/2/Tonguebase/1208161',\n",
       " '../../data/image_data_test/2/Tonguebase/6147162',\n",
       " '../../data/image_data_test/2/Tonguebase/4141134',\n",
       " '../../data/image_data_test/2/Tonguebase/6347135',\n",
       " '../../data/image_data_test/2/Tonguebase/4049119',\n",
       " '../../data/image_data_test/2/Tonguebase/1927132',\n",
       " '../../data/image_data_test/2/Tonguebase/1217135',\n",
       " '../../data/image_data_test/2/Tonguebase/1362155',\n",
       " '../../data/image_data_test/2/Tonguebase/4045149',\n",
       " '../../data/image_data_test/2/Tonguebase/1417159',\n",
       " '../../data/image_data_test/2/Tonguebase/1972269',\n",
       " '../../data/image_data_test/2/Tonguebase/4245158',\n",
       " '../../data/image_data_test/2/Tonguebase/4152155',\n",
       " '../../data/image_data_test/2/Tonguebase/1747127',\n",
       " '../../data/image_data_test/2/Tonguebase/6256165',\n",
       " '../../data/image_data_test/2/Tonguebase/4339168',\n",
       " '../../data/image_data_test/2/Tonguebase/4102129',\n",
       " '../../data/image_data_test/2/Tonguebase/1739120',\n",
       " '../../data/image_data_test/2/Tonguebase/11066129',\n",
       " '../../data/image_data_test/2/Tonguebase/4248156',\n",
       " '../../data/image_data_test/2/Tonguebase/4159274',\n",
       " '../../data/image_data_test/2/Tonguebase/1395144',\n",
       " '../../data/image_data_test/2/Tonguebase/4158159',\n",
       " '../../data/image_data_test/2/Tonguebase/4328126',\n",
       " '../../data/image_data_test/2/Tonguebase/1061139',\n",
       " '../../data/image_data_test/2/Tonguebase/4353159']"
      ]
     },
     "execution_count": 4,
     "metadata": {},
     "output_type": "execute_result"
    }
   ],
   "source": [
    "test_image_list"
   ]
  }
 ],
 "metadata": {
  "kernelspec": {
   "display_name": "LeeYS",
   "language": "python",
   "name": "python3"
  },
  "language_info": {
   "codemirror_mode": {
    "name": "ipython",
    "version": 3
   },
   "file_extension": ".py",
   "mimetype": "text/x-python",
   "name": "python",
   "nbconvert_exporter": "python",
   "pygments_lexer": "ipython3",
   "version": "3.9.0"
  }
 },
 "nbformat": 4,
 "nbformat_minor": 2
}
