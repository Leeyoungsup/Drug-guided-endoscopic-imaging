{
 "cells": [
  {
   "cell_type": "code",
   "execution_count": 25,
   "metadata": {},
   "outputs": [],
   "source": [
    "import os\n",
    "import shutil\n",
    "import pandas as pd\n",
    "from glob import glob\n",
    "import random\n",
    "from copy import copy\n",
    "from tqdm.notebook import tqdm\n",
    "def createDirectory(directory):\n",
    "    try:\n",
    "        if not os.path.exists(directory):\n",
    "            os.makedirs(directory)\n",
    "    except OSError:\n",
    "        print(\"Error: Failed to create the directory.\")"
   ]
  },
  {
   "cell_type": "code",
   "execution_count": 26,
   "metadata": {},
   "outputs": [
    {
     "data": {
      "application/vnd.jupyter.widget-view+json": {
       "model_id": "619d6053bd534c8d939abe9b6b952693",
       "version_major": 2,
       "version_minor": 0
      },
      "text/plain": [
       "  0%|          | 0/12 [00:00<?, ?it/s]"
      ]
     },
     "metadata": {},
     "output_type": "display_data"
    }
   ],
   "source": [
    "train_folder_list=glob('../../data/image_data/**/**')\n",
    "test_folder_list=[f.replace('/image_data/', '/image_data_test/') for f in train_folder_list]\n",
    "for i in range(len(test_folder_list)):\n",
    "    createDirectory(test_folder_list[i])\n",
    "for i in tqdm(range(len(train_folder_list))):\n",
    "    image_list=glob(train_folder_list[i]+'/**')\n",
    "    test_image_list=random.sample(image_list,len(image_list)//5)\n",
    "    train_image_list=copy(test_image_list)\n",
    "    test_image_list=[f.replace('/image_data/', '/image_data_test/') for f in train_image_list]\n",
    "    for j in range(len(test_image_list)):\n",
    "        shutil.move(train_image_list[j],test_image_list[j])"
   ]
  }
 ],
 "metadata": {
  "kernelspec": {
   "display_name": "LeeYS",
   "language": "python",
   "name": "python3"
  },
  "language_info": {
   "codemirror_mode": {
    "name": "ipython",
    "version": 3
   },
   "file_extension": ".py",
   "mimetype": "text/x-python",
   "name": "python",
   "nbconvert_exporter": "python",
   "pygments_lexer": "ipython3",
   "version": "3.9.0"
  }
 },
 "nbformat": 4,
 "nbformat_minor": 2
}
