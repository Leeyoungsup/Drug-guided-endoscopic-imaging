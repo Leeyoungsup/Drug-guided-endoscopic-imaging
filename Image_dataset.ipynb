{
 "cells": [
  {
   "cell_type": "code",
   "execution_count": 1,
   "metadata": {},
   "outputs": [],
   "source": [
    "import numpy as np\n",
    "\n",
    "import os\n",
    "import warnings\n",
    "import pandas as pd\n",
    "from PIL import Image\n",
    "from glob import glob\n",
    "from tqdm.notebook import tqdm\n",
    "import warnings\n",
    "import math\n",
    "import torchvision\n",
    "import cv2\n",
    "import matplotlib.pyplot as plt\n",
    "# 경고 메시지를 무시하도록 설정\n",
    "warnings.filterwarnings(\"ignore\")\n",
    "def createDirectory(directory):\n",
    "    try:\n",
    "        if not os.path.exists(directory):\n",
    "            os.makedirs(directory)\n",
    "    except OSError:\n",
    "        print(\"Error: Failed to create the directory.\")\n"
   ]
  },
  {
   "cell_type": "code",
   "execution_count": 2,
   "metadata": {},
   "outputs": [
    {
     "data": {
      "application/vnd.jupyter.widget-view+json": {
       "model_id": "fac6da06cf2d44789e87f7027b9cd384",
       "version_major": 2,
       "version_minor": 0
      },
      "text/plain": [
       "  0%|          | 0/2417 [00:00<?, ?it/s]"
      ]
     },
     "metadata": {},
     "output_type": "display_data"
    }
   ],
   "source": [
    "file_list=glob('../../data/video_data/**/**/*.mp4')\n",
    "image_file_list=[f.replace('.mp4', '') for f in file_list]\n",
    "image_file_list=[f.replace('/video_data/', '/image_data/') for f in image_file_list]\n",
    "count=0\n",
    "for i in range(len(image_file_list)):\n",
    "    createDirectory(image_file_list[i])\n",
    "for i in tqdm(range(len(file_list))):\n",
    "    try:\n",
    "        vidcap = torchvision.io.read_video(file_list[i])\n",
    "        video=np.array(vidcap[0],dtype=np.uint8)\n",
    "        video_crop=np.zeros((len(video)-1,video.shape[1],video.shape[2],3))\n",
    "        for j in range(len(video_crop)):\n",
    "            video_crop[j]=video[j+1]-video[j]\n",
    "        video_crop=video_crop.sum(axis=0)\n",
    "        video_crop=video_crop.sum(axis=2)\n",
    "        video_crop=((video_crop/video_crop.max())*255).astype(np.uint8)\n",
    "\n",
    "        y1=np.where(video_crop>100)[0].min()\n",
    "        y2=np.where(video_crop>100)[0].max()\n",
    "        x1=np.where(video_crop>100)[1].min()\n",
    "        x2=np.where(video_crop>100)[1].max()\n",
    "        for k in range(0,len(video),5):\n",
    "            image=cv2.resize(video[k,y1:y2,x1:x2],(512,512))\n",
    "            Image.fromarray(video[k,y1:y2,x1:x2]).save(image_file_list[i]+\"/%06d.jpg\" % count)\n",
    "            count += 1\n",
    "    except:\n",
    "        print(file_list[i])"
   ]
  }
 ],
 "metadata": {
  "kernelspec": {
   "display_name": "LeeYS",
   "language": "python",
   "name": "python3"
  },
  "language_info": {
   "codemirror_mode": {
    "name": "ipython",
    "version": 3
   },
   "file_extension": ".py",
   "mimetype": "text/x-python",
   "name": "python",
   "nbconvert_exporter": "python",
   "pygments_lexer": "ipython3",
   "version": "3.9.0"
  }
 },
 "nbformat": 4,
 "nbformat_minor": 2
}
