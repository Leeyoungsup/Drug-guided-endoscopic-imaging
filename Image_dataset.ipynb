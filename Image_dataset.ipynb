{
 "cells": [
  {
   "cell_type": "code",
   "execution_count": 12,
   "metadata": {},
   "outputs": [],
   "source": [
    "import numpy as np\n",
    "\n",
    "import os\n",
    "import warnings\n",
    "import pandas as pd\n",
    "from PIL import Image\n",
    "from glob import glob\n",
    "from tqdm.notebook import tqdm\n",
    "import warnings\n",
    "import math\n",
    "import torchvision\n",
    "import cv2\n",
    "import matplotlib.pyplot as plt\n",
    "# 경고 메시지를 무시하도록 설정\n",
    "warnings.filterwarnings(\"ignore\")\n",
    "def createDirectory(directory):\n",
    "    try:\n",
    "        if not os.path.exists(directory):\n",
    "            os.makedirs(directory)\n",
    "    except OSError:\n",
    "        print(\"Error: Failed to create the directory.\")\n",
    "def expand2square(pil_img, background_color):\n",
    "    width, height = pil_img.size\n",
    "    if width == height:\n",
    "        return pil_img\n",
    "    elif width > height:\n",
    "        result = Image.new(pil_img.mode, (width, width), background_color)\n",
    "        result.paste(pil_img, (0, (width - height) // 2))\n",
    "        return result\n",
    "    else:\n",
    "        result = Image.new(pil_img.mode, (height, height), background_color)\n",
    "        result.paste(pil_img, ((height - width) // 2, 0))\n",
    "        return result"
   ]
  },
  {
   "cell_type": "code",
   "execution_count": 13,
   "metadata": {},
   "outputs": [
    {
     "data": {
      "application/vnd.jupyter.widget-view+json": {
       "model_id": "ceba609114984cc8b94ec3748febbe7b",
       "version_major": 2,
       "version_minor": 0
      },
      "text/plain": [
       "  0%|          | 0/3823 [00:00<?, ?it/s]"
      ]
     },
     "metadata": {},
     "output_type": "display_data"
    }
   ],
   "source": [
    "file_list=glob('../../data/video_data/**/**/*.mp4')\n",
    "image_file_list=[f.replace('.mp4', '') for f in file_list]\n",
    "image_file_list=[f.replace('/video_data/', '/image_data_pd/') for f in image_file_list]\n",
    "for i in tqdm(range(len(file_list))):\n",
    "    try:\n",
    "        count=0\n",
    "        vidcap = torchvision.io.read_video(file_list[i])\n",
    "        fps=int(vidcap[2]['video_fps'])\n",
    "        video=np.array(vidcap[0],dtype=np.uint8)\n",
    "        video_crop=np.zeros((len(video)-1,video.shape[1],video.shape[2],3))\n",
    "        for j in range(len(video_crop)):\n",
    "            video_crop[j]=video[j+1]-video[j]\n",
    "        video_crop=video_crop.sum(axis=0)\n",
    "        video_crop=video_crop.sum(axis=2)\n",
    "        video_crop=((video_crop/video_crop.max())*255).astype(np.uint8)\n",
    "        y1=np.where(video_crop>100)[0].min()\n",
    "        y2=np.where(video_crop>100)[0].max()\n",
    "        x1=np.where(video_crop>100)[1].min()\n",
    "        x2=np.where(video_crop>100)[1].max()\n",
    "        createDirectory(image_file_list[i])\n",
    "        for k in range(0,len(video),fps//5):\n",
    "            img=Image.fromarray(video[k,y1:y2,x1:x2])\n",
    "            im_new = expand2square(img, (0, 0, 0))\n",
    "            im_new.resize((256,256)).save(image_file_list[i]+\"/%06d.jpg\" % count)\n",
    "            count += 1\n",
    "    except:\n",
    "        print(file_list[i])"
   ]
  }
 ],
 "metadata": {
  "kernelspec": {
   "display_name": "LeeYS",
   "language": "python",
   "name": "python3"
  },
  "language_info": {
   "codemirror_mode": {
    "name": "ipython",
    "version": 3
   },
   "file_extension": ".py",
   "mimetype": "text/x-python",
   "name": "python",
   "nbconvert_exporter": "python",
   "pygments_lexer": "ipython3",
   "version": "3.9.0"
  }
 },
 "nbformat": 4,
 "nbformat_minor": 2
}
