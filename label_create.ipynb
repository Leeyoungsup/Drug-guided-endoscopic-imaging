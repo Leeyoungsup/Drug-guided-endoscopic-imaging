{
 "cells": [
  {
   "cell_type": "code",
   "execution_count": 1,
   "metadata": {},
   "outputs": [],
   "source": [
    "import pandas as pd\n",
    "from glob import glob\n",
    "import os"
   ]
  },
  {
   "cell_type": "code",
   "execution_count": 14,
   "metadata": {},
   "outputs": [],
   "source": [
    "label=pd.read_csv('../../data/label.csv',encoding='cp949')\n",
    "file_list=glob('../../data/data/*.mp4')"
   ]
  },
  {
   "cell_type": "code",
   "execution_count": 15,
   "metadata": {},
   "outputs": [],
   "source": [
    "count=0\n",
    "for i in range(len(label)):\n",
    "    file_name=label.loc[i]['File Name']\n",
    "    full_path='../../data/data/'\n",
    "    if full_path+file_name not in file_list:\n",
    "        count+=1\n",
    "        label.drop(label.index[i], inplace=True)"
   ]
  },
  {
   "cell_type": "code",
   "execution_count": 24,
   "metadata": {},
   "outputs": [
    {
     "data": {
      "text/html": [
       "<div>\n",
       "<style scoped>\n",
       "    .dataframe tbody tr th:only-of-type {\n",
       "        vertical-align: middle;\n",
       "    }\n",
       "\n",
       "    .dataframe tbody tr th {\n",
       "        vertical-align: top;\n",
       "    }\n",
       "\n",
       "    .dataframe thead th {\n",
       "        text-align: right;\n",
       "    }\n",
       "</style>\n",
       "<table border=\"1\" class=\"dataframe\">\n",
       "  <thead>\n",
       "    <tr style=\"text-align: right;\">\n",
       "      <th></th>\n",
       "      <th>wake</th>\n",
       "      <th>Serial Number</th>\n",
       "      <th>label</th>\n",
       "      <th>File Name</th>\n",
       "    </tr>\n",
       "  </thead>\n",
       "  <tbody>\n",
       "    <tr>\n",
       "      <th>421</th>\n",
       "      <td>3</td>\n",
       "      <td>6062120</td>\n",
       "      <td>1</td>\n",
       "      <td>60621203_82_OTEclip.mp4</td>\n",
       "    </tr>\n",
       "    <tr>\n",
       "      <th>422</th>\n",
       "      <td>3</td>\n",
       "      <td>6063260</td>\n",
       "      <td>2</td>\n",
       "      <td>60632603_88_OTEclip.mp4</td>\n",
       "    </tr>\n",
       "    <tr>\n",
       "      <th>423</th>\n",
       "      <td>3</td>\n",
       "      <td>6064151</td>\n",
       "      <td>2</td>\n",
       "      <td>60641513_91_OTEclip.mp4</td>\n",
       "    </tr>\n",
       "    <tr>\n",
       "      <th>424</th>\n",
       "      <td>3</td>\n",
       "      <td>6065150</td>\n",
       "      <td>2</td>\n",
       "      <td>60651503_91_OTEclip.mp4</td>\n",
       "    </tr>\n",
       "  </tbody>\n",
       "</table>\n",
       "</div>"
      ],
      "text/plain": [
       "     wake  Serial Number  label                File Name\n",
       "421     3        6062120      1  60621203_82_OTEclip.mp4\n",
       "422     3        6063260      2  60632603_88_OTEclip.mp4\n",
       "423     3        6064151      2  60641513_91_OTEclip.mp4\n",
       "424     3        6065150      2  60651503_91_OTEclip.mp4"
      ]
     },
     "execution_count": 24,
     "metadata": {},
     "output_type": "execute_result"
    }
   ],
   "source": [
    "label.loc[label['File Name'].duplicated()]"
   ]
  }
 ],
 "metadata": {
  "kernelspec": {
   "display_name": "LeeYS",
   "language": "python",
   "name": "python3"
  },
  "language_info": {
   "codemirror_mode": {
    "name": "ipython",
    "version": 3
   },
   "file_extension": ".py",
   "mimetype": "text/x-python",
   "name": "python",
   "nbconvert_exporter": "python",
   "pygments_lexer": "ipython3",
   "version": "3.9.0"
  }
 },
 "nbformat": 4,
 "nbformat_minor": 2
}
