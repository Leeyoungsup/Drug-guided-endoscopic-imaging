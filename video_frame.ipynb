{
 "cells": [
  {
   "cell_type": "code",
   "execution_count": 7,
   "metadata": {},
   "outputs": [],
   "source": [
    "import cv2\n"
   ]
  },
  {
   "cell_type": "code",
   "execution_count": 9,
   "metadata": {},
   "outputs": [],
   "source": [
    "import cv2\n",
    "\n",
    "input_video = cv2.VideoCapture('../../data/1.원본데이터/02.OTE_v0.1_230915/Clip/10031531_94_OTEclip.mp4')\n",
    "\n",
    "\n",
    "output_filename = 'output_video.mp4'\n",
    "output_fps = 10\n",
    "output_fourcc = cv2.VideoWriter_fourcc(*'mp4v')\n",
    "\n",
    "frame_width = int(input_video.get(3))\n",
    "frame_height = int(input_video.get(4))\n",
    "\n",
    "output_video = cv2.VideoWriter(output_filename, output_fourcc, output_fps, (frame_width, frame_height))\n",
    "\n",
    "frame_count = 0\n",
    "\n",
    "while True:\n",
    "    ret, frame = input_video.read()\n",
    "\n",
    "    if not ret:\n",
    "        break\n",
    "\n",
    "  \n",
    "    output_video.write(frame)\n",
    "\n",
    "    frame_count += 1\n",
    "\n",
    "input_video.release()\n",
    "output_video.release()\n"
   ]
  }
 ],
 "metadata": {
  "kernelspec": {
   "display_name": "LeeYS",
   "language": "python",
   "name": "python3"
  },
  "language_info": {
   "codemirror_mode": {
    "name": "ipython",
    "version": 3
   },
   "file_extension": ".py",
   "mimetype": "text/x-python",
   "name": "python",
   "nbconvert_exporter": "python",
   "pygments_lexer": "ipython3",
   "version": "3.9.0"
  }
 },
 "nbformat": 4,
 "nbformat_minor": 2
}
